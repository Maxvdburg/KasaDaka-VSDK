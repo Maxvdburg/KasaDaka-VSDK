{
 "cells": [
  {
   "cell_type": "code",
   "execution_count": 3,
   "metadata": {},
   "outputs": [
    {
     "name": "stdout",
     "output_type": "stream",
     "text": [
      "Gao\n",
      "the expected temperature is 42.89 degrees\n",
      "the expected windspeed is 9.94 kilometers per hour\n",
      "\n",
      "Kayes\n",
      "the expected temperature is 38.05 degrees\n",
      "the expected windspeed is 2.29 kilometers per hour\n",
      "\n",
      "Koulikoro\n",
      "the expected temperature is 39.05 degrees\n",
      "the expected windspeed is 5.17 kilometers per hour\n",
      "\n",
      "Kidal\n",
      "the expected temperature is 42.35 degrees\n",
      "the expected windspeed is 8.62 kilometers per hour\n",
      "\n",
      "Tessalit\n",
      "the expected temperature is 38.74 degrees\n",
      "the expected windspeed is 8.78 kilometers per hour\n",
      "\n",
      "Kita\n",
      "the expected temperature is 38.23 degrees\n",
      "the expected windspeed is 2.48 kilometers per hour\n",
      "\n",
      "Kati\n",
      "the expected temperature is 35 degrees\n",
      "the expected windspeed is 3.6 kilometers per hour\n",
      "\n"
     ]
    },
    {
     "data": {
      "text/plain": [
       "{'coord': {'lon': 1.64, 'lat': 16.64},\n",
       " 'weather': [{'id': 800,\n",
       "   'main': 'Clear',\n",
       "   'description': 'clear sky',\n",
       "   'icon': '01d'}],\n",
       " 'base': 'stations',\n",
       " 'main': {'temp': 42.89,\n",
       "  'feels_like': 33.63,\n",
       "  'temp_min': 42.89,\n",
       "  'temp_max': 42.89,\n",
       "  'pressure': 1010,\n",
       "  'humidity': 6,\n",
       "  'sea_level': 1010,\n",
       "  'grnd_level': 968},\n",
       " 'wind': {'speed': 9.94, 'deg': 66},\n",
       " 'clouds': {'all': 0},\n",
       " 'dt': 1588245705,\n",
       " 'sys': {'country': 'ML', 'sunrise': 1588224519, 'sunset': 1588270342},\n",
       " 'timezone': 0,\n",
       " 'id': 2457161,\n",
       " 'name': 'Gao',\n",
       " 'cod': 200}"
      ]
     },
     "execution_count": 3,
     "metadata": {},
     "output_type": "execute_result"
    }
   ],
   "source": [
    "import configparser\n",
    "import requests\n",
    "import sys\n",
    "from datetime import datetime\n"
   ]
  },
  {
   "cell_type": "code",
   "execution_count": 44,
   "metadata": {},
   "outputs": [
    {
     "name": "stdout",
     "output_type": "stream",
     "text": [
      "Gao\n",
      "the expected temperature is 43.93 degrees\n",
      "the expected windspeed is 8.93 kilometers per hour\n",
      "\n",
      "Kayes\n",
      "the expected temperature is 42 degrees\n",
      "the expected windspeed is 2.6 kilometers per hour\n",
      "\n",
      "Koulikoro\n",
      "the expected temperature is 40.58 degrees\n",
      "the expected windspeed is 7.63 kilometers per hour\n",
      "\n",
      "Kidal\n",
      "the expected temperature is 43.13 degrees\n",
      "the expected windspeed is 6.78 kilometers per hour\n",
      "\n",
      "Tessalit\n",
      "the expected temperature is 39.97 degrees\n",
      "the expected windspeed is 8.57 kilometers per hour\n",
      "\n",
      "Kita\n",
      "the expected temperature is 43.81 degrees\n",
      "the expected windspeed is 0.8 kilometers per hour\n",
      "\n",
      "Kati\n",
      "the expected temperature is 38 degrees\n",
      "the expected windspeed is 2.1 kilometers per hour\n",
      "\n"
     ]
    },
    {
     "data": {
      "text/plain": [
       "{'coord': {'lon': 1.64, 'lat': 16.64},\n",
       " 'weather': [{'id': 800,\n",
       "   'main': 'Clear',\n",
       "   'description': 'clear sky',\n",
       "   'icon': '01d'}],\n",
       " 'base': 'stations',\n",
       " 'main': {'temp': 43.93,\n",
       "  'feels_like': 35.17,\n",
       "  'temp_min': 43.93,\n",
       "  'temp_max': 43.93,\n",
       "  'pressure': 1009,\n",
       "  'humidity': 5,\n",
       "  'sea_level': 1009,\n",
       "  'grnd_level': 967},\n",
       " 'wind': {'speed': 8.93, 'deg': 69},\n",
       " 'clouds': {'all': 0},\n",
       " 'dt': 1588249526,\n",
       " 'sys': {'country': 'ML', 'sunrise': 1588224519, 'sunset': 1588270342},\n",
       " 'timezone': 0,\n",
       " 'id': 2457161,\n",
       " 'name': 'Gao',\n",
       " 'cod': 200}"
      ]
     },
     "execution_count": 44,
     "metadata": {},
     "output_type": "execute_result"
    }
   ],
   "source": [
    "api_key=('57519d394c970d37633e800dc962803c')\n",
    "location = ['Gao,ML','Kayes,ML','Koulikoro,ML','Kidal,ML','Tessalit,ML','Kita,ML','Kati,ML']\n",
    "\n",
    "def get_weather(api_key, location):\n",
    "    url = \"https://api.openweathermap.org/data/2.5/weather?q={}&units=metric&appid={}\".format(location, api_key)\n",
    "    r = requests.get(url)\n",
    "    return r.json()\n",
    "\n",
    "\n",
    "def main(place):\n",
    "    weather = get_weather(api_key, place)\n",
    "    print (place.split(',')[0])\n",
    "    print(\"the expected temperature is\",weather['main']['temp'], \"degrees\")\n",
    "    print(\"the expected windspeed is\", weather['wind']['speed'], \"kilometers per hour\")\n",
    "    print()\n",
    "\n",
    "for i in location:\n",
    "    main(i)\n",
    "\n",
    "get_weather(api_key, 'Gao,ML')"
   ]
  },
  {
   "cell_type": "code",
   "execution_count": 61,
   "metadata": {},
   "outputs": [
    {
     "data": {
      "text/plain": [
       "'2020-04-30 11:00:00'"
      ]
     },
     "execution_count": 61,
     "metadata": {},
     "output_type": "execute_result"
    }
   ],
   "source": [
    "def correct_time(unix):\n",
    "    stamp = int(unix)\n",
    "    return(datetime.utcfromtimestamp(stamp).strftime('%Y-%m-%d %H:%M:%S'))\n",
    "\n",
    "correct_time(1588244400)"
   ]
  },
  {
   "cell_type": "code",
   "execution_count": 29,
   "metadata": {},
   "outputs": [
    {
     "name": "stdout",
     "output_type": "stream",
     "text": [
      "the expected maximum temperature is 43.93\n",
      "the expected maximum temperature is 44.21\n",
      "the expected maximum temperature is 38.01\n",
      "the expected maximum temperature is 34.59\n",
      "the expected maximum temperature is 32.18\n"
     ]
    },
    {
     "data": {
      "text/plain": [
       "5"
      ]
     },
     "execution_count": 29,
     "metadata": {},
     "output_type": "execute_result"
    }
   ],
   "source": [
    "api_key=('57519d394c970d37633e800dc962803c')\n",
    "location = ('Utrecht,NL')\n",
    "lat = ('16.6362')\n",
    "lon= ('1.637')\n",
    "\n",
    "def get_weather(api_key, lat, lon):\n",
    "    url = \"https://api.openweathermap.org/data/2.5/forecast?lat={}&lon={}&units=metric&appid={}\".format(lat, lon, api_key)\n",
    "    r = requests.get(url)\n",
    "    return r.json()\n",
    "\n",
    "def main():\n",
    "    weather = get_weather(api_key, lat, lon)\n",
    "    for i in range(len(weather)):\n",
    "        print(\"the expected maximum temperature is\",weather['list'][i]['main']['temp_max'])\n",
    "    return(len(weather))\n",
    "main()\n",
    "#get_weather(api_key, lat, lon)"
   ]
  },
  {
   "cell_type": "code",
   "execution_count": 62,
   "metadata": {},
   "outputs": [
    {
     "name": "stdout",
     "output_type": "stream",
     "text": [
      "Weather forecast for  2020-04-30 11:00:00\n",
      "the expected maximum temperature is 44.07\n",
      "the expected sun intensity is 12.94\n",
      "the expected windstrength is 8.93\n",
      "\n",
      "Weather forecast for  2020-05-01 11:00:00\n",
      "the expected maximum temperature is 44.54\n",
      "the expected sun intensity is 13.85\n",
      "the expected windstrength is 6.31\n",
      "\n",
      "Weather forecast for  2020-05-02 11:00:00\n",
      "the expected maximum temperature is 44.08\n",
      "the expected sun intensity is 13.23\n",
      "the expected windstrength is 7.41\n",
      "\n",
      "Weather forecast for  2020-05-03 11:00:00\n",
      "the expected maximum temperature is 42.91\n",
      "the expected sun intensity is 12.57\n",
      "the expected windstrength is 2.48\n",
      "\n",
      "Weather forecast for  2020-05-04 11:00:00\n",
      "the expected maximum temperature is 42.89\n",
      "the expected sun intensity is 14.14\n",
      "the expected windstrength is 1.02\n",
      "\n",
      "Weather forecast for  2020-05-05 11:00:00\n",
      "the expected maximum temperature is 41.6\n",
      "the expected sun intensity is 13.49\n",
      "the expected windstrength is 7.9\n",
      "\n"
     ]
    }
   ],
   "source": [
    "api_key=('57519d394c970d37633e800dc962803c')\n",
    "location = ('Utrecht,NL')\n",
    "lat = ('16.6362')\n",
    "lon= ('1.637')\n",
    "\n",
    "def get_weather(api_key, lat, lon):\n",
    "    url = \"https://api.openweathermap.org/data/2.5/onecall?lat={}&lon={}&units=metric&appid={}\".format(lat, lon, api_key)\n",
    "    r = requests.get(url)\n",
    "    return r.json()\n",
    "\n",
    "def main():\n",
    "    weather = get_weather(api_key, lat, lon)\n",
    "    for i in range(len(weather)):\n",
    "        print (\"Weather forecast for \",correct_time((weather['daily'][i]['dt'])))\n",
    "        print(\"the expected maximum temperature is\",weather['daily'][i]['temp']['max'])\n",
    "        print(\"the expected sun intensity is\",weather['daily'][i]['uvi'])\n",
    "        print(\"the expected windstrength is\",weather['daily'][i]['wind_speed'])        \n",
    "        print()\n",
    "    #return(weather)\n",
    "main()\n"
   ]
  },
  {
   "cell_type": "code",
   "execution_count": 43,
   "metadata": {},
   "outputs": [
    {
     "name": "stdout",
     "output_type": "stream",
     "text": [
      "2020-04-30 12:21:20\n"
     ]
    }
   ],
   "source": [
    "from datetime import datetime\n",
    "ts = int(\"1588249280\")\n",
    "print(datetime.utcfromtimestamp(ts).strftime('%Y-%m-%d %H:%M:%S'))"
   ]
  },
  {
   "cell_type": "code",
   "execution_count": null,
   "metadata": {},
   "outputs": [],
   "source": []
  }
 ],
 "metadata": {
  "kernelspec": {
   "display_name": "Python 3",
   "language": "python",
   "name": "python3"
  },
  "language_info": {
   "codemirror_mode": {
    "name": "ipython",
    "version": 3
   },
   "file_extension": ".py",
   "mimetype": "text/x-python",
   "name": "python",
   "nbconvert_exporter": "python",
   "pygments_lexer": "ipython3",
   "version": "3.7.4"
  }
 },
 "nbformat": 4,
 "nbformat_minor": 2
}
