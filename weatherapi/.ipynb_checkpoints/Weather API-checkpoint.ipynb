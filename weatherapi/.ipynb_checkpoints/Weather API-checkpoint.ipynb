{
 "cells": [
  {
   "cell_type": "code",
   "execution_count": 31,
   "metadata": {},
   "outputs": [],
   "source": [
    "#!brew install sox\n",
    "#!pip install gTTS\n",
    "\n",
    "import configparser\n",
    "import requests\n",
    "import sys\n",
    "from datetime import datetime\n",
    "from gtts import gTTS\n",
    "import os\n",
    "import csv\n",
    "\n",
    "\n",
    "\n",
    "api_key=('57519d394c970d37633e800dc962803c')\n",
    "\n",
    "cities = [['Gao','16.6362','1.637'],['Bamba', '7.9036', '-8.7837'],['Kidal','18.4411', '1.4078'],['Kayes','14.4417', '-11.4341']\n",
    "          ,['Kita','13.0349','-9.4895'],['Kati','12.7441', '-8.0726'],['Koulikoro','12.8627','-7.5599'], ['Tessalit','20.1986', '1.0114']]\n"
   ]
  },
  {
   "cell_type": "markdown",
   "metadata": {},
   "source": [
    "### Twee functies worden aangemaakt\n",
    "`correct_time` zet de tijd die vanuit de weatherAPI komt om in leesbare tekst.\n",
    "`get_weather` is de functie die contact maakt met de weatherAPI.\n",
    "`make_audio_file` zorgt ervoor dat een .mp3 file wordt aangemaakt die de tekst vanuit de gehele database uitspreekt."
   ]
  },
  {
   "cell_type": "code",
   "execution_count": 32,
   "metadata": {},
   "outputs": [],
   "source": [
    "def correct_time(unix):\n",
    "    stamp = int(unix)\n",
    "    return(datetime.utcfromtimestamp(stamp).strftime('%Y-%m-%d %H:%M:%S'))\n"
   ]
  },
  {
   "cell_type": "code",
   "execution_count": 33,
   "metadata": {},
   "outputs": [],
   "source": [
    "\n",
    "def get_weather(api_key, lat, lon):\n",
    "    url = \"https://api.openweathermap.org/data/2.5/onecall?lat={}&lon={}&units=metric&appid={}\".format(lat, lon, api_key)\n",
    "    r = requests.get(url)\n",
    "    return r.json()"
   ]
  },
  {
   "cell_type": "code",
   "execution_count": 34,
   "metadata": {},
   "outputs": [],
   "source": [
    "\n",
    "def make_audio_file(text,filename,city,date):\n",
    "    language = 'en'\n",
    "    tts = gTTS(text=text, lang=language, slow=False)\n",
    "    file = (filename+city+date)\n",
    "    tts.save(file+'.mp3')\n",
    "\n"
   ]
  },
  {
   "cell_type": "code",
   "execution_count": 35,
   "metadata": {},
   "outputs": [],
   "source": [
    "def convert_mp3_to_wav():\n",
    "    os.system(\"sh ./mp3_to_wav.sh\") # convert all .mp3 files to .wav files\n",
    "    os.system(\"sh ./convert_wav.sh\") # convert all .wav files into wav files with sample rate 8KHz, 16 bit, mono, Codec: PCM 16 LE (s16l)\n",
    "\n",
    "    "
   ]
  },
  {
   "cell_type": "markdown",
   "metadata": {},
   "source": [
    "### Maak een database aan\n",
    "`forecast` zorgt ervoor dat een gehele database wordt aangemaakt met alle weer-data.\n",
    "`make_forecast` zorgt ervoor dat alle steden worden toegevoegd in de database."
   ]
  },
  {
   "cell_type": "code",
   "execution_count": 272,
   "metadata": {},
   "outputs": [],
   "source": [
    "def forecast(name, lat, lon):\n",
    "    with open('database.csv','a') as db:\n",
    "        writer = csv.writer(db, delimiter=',')\n",
    "        weather = get_weather(api_key, lat, lon)\n",
    "        for i in range(len(weather)):\n",
    "            writer.writerow((\"Weather forecast in\",name,\"for\",correct_time((weather['daily'][i]['dt']))))\n",
    "            writer.writerow((\"the expected maximum temperature is\",weather['daily'][i]['temp']['max']))\n",
    "            writer.writerow((\"the expected sun intensity is\",weather['daily'][i]['uvi']))\n",
    "            writer.writerow((\"the expected windstrength is\",weather['daily'][i]['wind_speed']))\n",
    "\n",
    "def make_forecast():\n",
    "    for city in cities:\n",
    "        name = (city[0])\n",
    "        lat = (city[1])\n",
    "        lon = (city[2])\n",
    "        forecast(name, lat, lon)\n",
    "        \n",
    "make_forecast()"
   ]
  },
  {
   "cell_type": "code",
   "execution_count": 36,
   "metadata": {},
   "outputs": [],
   "source": [
    "file = open('database.csv', 'r') #open de database\n",
    "\n",
    "def make_filename():\n",
    "    city = '' #lege variabele die wordt gevuld indien nieuwe citynaam wordt gevonden\n",
    "    date = '' #lege variabele die wordt gevuld indien nieuwe datum wordt gevonden\n",
    "    for record in file:\n",
    "        filename = ''\n",
    "        if \"forecast\" in record:\n",
    "            split_record_name = (record.split(','))\n",
    "            city = (split_record_name[1]+\"_\")\n",
    "            date = (split_record_name[3].split(' ')[0])\n",
    "            filename = 'forecast_'\n",
    "            make_audio_file(record,filename,city,date)\n",
    "        elif 'maximum' in record:\n",
    "            filename = 'maximum_temp_'\n",
    "            make_audio_file(record,filename,city,date)\n",
    "        elif 'sun' in record:\n",
    "            filename = 'sun_intensity_'\n",
    "            make_audio_file(record,filename,city,date)\n",
    "        else:\n",
    "            filename = 'wind_'\n",
    "            make_audio_file(record,filename,city,date)\n",
    "    convert_mp3_to_wav()\n",
    "make_filename()\n"
   ]
  },
  {
   "cell_type": "code",
   "execution_count": null,
   "metadata": {},
   "outputs": [],
   "source": []
  }
 ],
 "metadata": {
  "kernelspec": {
   "display_name": "Python 3",
   "language": "python",
   "name": "python3"
  },
  "language_info": {
   "codemirror_mode": {
    "name": "ipython",
    "version": 3
   },
   "file_extension": ".py",
   "mimetype": "text/x-python",
   "name": "python",
   "nbconvert_exporter": "python",
   "pygments_lexer": "ipython3",
   "version": "3.7.4"
  }
 },
 "nbformat": 4,
 "nbformat_minor": 2
}
