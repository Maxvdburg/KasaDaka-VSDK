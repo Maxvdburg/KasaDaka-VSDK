{
 "cells": [
  {
   "cell_type": "code",
   "execution_count": 105,
   "metadata": {},
   "outputs": [],
   "source": [
    "#!pip install gTTS\n",
    "\n",
    "import configparser\n",
    "import requests\n",
    "import sys\n",
    "from datetime import datetime\n",
    "from gtts import gTTS\n",
    "\n",
    "api_key=('57519d394c970d37633e800dc962803c')\n",
    "\n",
    "cities = [['Gao','16.6362','1.637'],['Bamba', '7.9036', '-8.7837'],['Kidal','18.4411', '1.4078'],['Kayes','14.4417', '-11.4341']\n",
    "          ,['Kita','13.0349','-9.4895'],['Kati','12.7441', '-8.0726'],['Koulikoro','12.8627','-7.5599'], ['Tessalit','20.1986', '1.0114']]\n"
   ]
  },
  {
   "cell_type": "code",
   "execution_count": 67,
   "metadata": {},
   "outputs": [],
   "source": [
    "def get_weather(api_key, lat, lon):\n",
    "    url = \"https://api.openweathermap.org/data/2.5/onecall?lat={}&lon={}&units=metric&appid={}\".format(lat, lon, api_key)\n",
    "    r = requests.get(url)\n",
    "    return r.json()"
   ]
  },
  {
   "cell_type": "code",
   "execution_count": 69,
   "metadata": {},
   "outputs": [],
   "source": [
    "def correct_time(unix):\n",
    "    stamp = int(unix)\n",
    "    return(datetime.utcfromtimestamp(stamp).strftime('%Y-%m-%d %H:%M:%S'))\n"
   ]
  },
  {
   "cell_type": "code",
   "execution_count": 100,
   "metadata": {},
   "outputs": [
    {
     "name": "stdout",
     "output_type": "stream",
     "text": [
      "Weather forecast in  Gao for 2020-04-30 11:00:00\n",
      "the expected maximum temperature is 44.09\n",
      "the expected sun intensity is 12.94\n",
      "the expected windstrength is 8.53\n",
      "\n",
      "Weather forecast in  Bamba for 2020-04-30 12:00:00\n",
      "the expected maximum temperature is 33.67\n",
      "the expected sun intensity is 14.33\n",
      "the expected windstrength is 1.58\n",
      "\n",
      "Weather forecast in  Kidal for 2020-04-30 11:00:00\n",
      "the expected maximum temperature is 43.27\n",
      "the expected sun intensity is 13.82\n",
      "the expected windstrength is 6.78\n",
      "\n",
      "Weather forecast in  Kayes for 2020-04-30 12:00:00\n",
      "the expected maximum temperature is 44.17\n",
      "the expected sun intensity is 14.25\n",
      "the expected windstrength is 1.53\n",
      "\n",
      "Weather forecast in  Kita for 2020-04-30 12:00:00\n",
      "the expected maximum temperature is 43.69\n",
      "the expected sun intensity is 14.7\n",
      "the expected windstrength is 0.67\n",
      "\n",
      "Weather forecast in  Kati for 2020-04-30 12:00:00\n",
      "the expected maximum temperature is 40.12\n",
      "the expected sun intensity is 14.62\n",
      "the expected windstrength is 1.65\n",
      "\n",
      "Weather forecast in  Koulikoro for 2020-04-30 12:00:00\n",
      "the expected maximum temperature is 41.24\n",
      "the expected sun intensity is 14.67\n",
      "the expected windstrength is 1.76\n",
      "\n",
      "Weather forecast in  Tessalit for 2020-04-30 11:00:00\n",
      "the expected maximum temperature is 40.67\n",
      "the expected sun intensity is 14.32\n",
      "the expected windstrength is 8.33\n",
      "\n"
     ]
    }
   ],
   "source": [
    "def forecast(name, lat, lon):\n",
    "    weather = get_weather(api_key, lat, lon)\n",
    "    for i in range(len(weather)):\n",
    "        print (\"Weather forecast in \",name,\"for\",correct_time((weather['daily'][i]['dt'])))\n",
    "        print(\"the expected maximum temperature is\",weather['daily'][i]['temp']['max'])\n",
    "        print(\"the expected sun intensity is\",weather['daily'][i]['uvi'])\n",
    "        print(\"the expected windstrength is\",weather['daily'][i]['wind_speed'])        \n",
    "        print()\n",
    "        break\n",
    "\n",
    "def make_forecast():\n",
    "    for city in cities:\n",
    "        name = (city[0])\n",
    "        lat = (city[1])\n",
    "        lon = (city[2])\n",
    "        forecast(name, lat, lon)\n",
    "make_forecast()"
   ]
  },
  {
   "cell_type": "code",
   "execution_count": 110,
   "metadata": {},
   "outputs": [],
   "source": [
    "tts = gTTS('hallo',lang='nl')\n",
    "tts.save('hello.mp3')\n",
    "# The text that you want to convert to audio \n",
    "mytext = \"This is my text in the saving folder\"\n",
    "\n",
    "# Language in which you want to convert \n",
    "language = 'en'\n",
    "\n",
    "# Passing the text and language to the engine\n",
    "tts = gTTS(text=mytext, lang=language, slow=False) \n",
    "\n",
    "# Saving the converted audio in a wav file named sample\n",
    "tts.save('sample.wav')"
   ]
  },
  {
   "cell_type": "code",
   "execution_count": null,
   "metadata": {},
   "outputs": [],
   "source": []
  }
 ],
 "metadata": {
  "kernelspec": {
   "display_name": "Python 3",
   "language": "python",
   "name": "python3"
  },
  "language_info": {
   "codemirror_mode": {
    "name": "ipython",
    "version": 3
   },
   "file_extension": ".py",
   "mimetype": "text/x-python",
   "name": "python",
   "nbconvert_exporter": "python",
   "pygments_lexer": "ipython3",
   "version": "3.7.4"
  }
 },
 "nbformat": 4,
 "nbformat_minor": 2
}
