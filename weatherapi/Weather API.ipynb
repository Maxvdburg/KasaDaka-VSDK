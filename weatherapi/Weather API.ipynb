{
 "cells": [
  {
   "cell_type": "code",
   "execution_count": 124,
   "metadata": {},
   "outputs": [
    {
     "name": "stdout",
     "output_type": "stream",
     "text": [
      "Collecting pysoundfile\n",
      "\u001b[?25l  Downloading https://files.pythonhosted.org/packages/f7/62/bddd31ba4f575eca81c6642d809fe01ed5ee5f55ebb4e9b14d0a033cc6bf/PySoundFile-0.9.0.post1-py2.py3.cp26.cp27.cp32.cp33.cp34.cp35.cp36.pp27.pp32.pp33-none-macosx_10_5_x86_64.macosx_10_6_intel.macosx_10_9_intel.macosx_10_9_x86_64.whl (573kB)\n",
      "\u001b[K     |████████████████████████████████| 573kB 2.9MB/s eta 0:00:01\n",
      "\u001b[?25hRequirement already satisfied: cffi>=0.6 in /Users/maxvanderburg/opt/anaconda3/lib/python3.7/site-packages (from pysoundfile) (1.14.0)\n",
      "Requirement already satisfied: pycparser in /Users/maxvanderburg/opt/anaconda3/lib/python3.7/site-packages (from cffi>=0.6->pysoundfile) (2.20)\n",
      "Installing collected packages: pysoundfile\n",
      "Successfully installed pysoundfile-0.9.0.post1\n"
     ]
    }
   ],
   "source": [
    "#!pip install gTTS\n",
    "#!pip install pysoundfile\n",
    "\n",
    "import configparser\n",
    "import requests\n",
    "import sys\n",
    "from datetime import datetime\n",
    "from gtts import gTTS\n",
    "\n",
    "api_key=('57519d394c970d37633e800dc962803c')\n",
    "\n",
    "cities = [['Gao','16.6362','1.637'],['Bamba', '7.9036', '-8.7837'],['Kidal','18.4411', '1.4078'],['Kayes','14.4417', '-11.4341']\n",
    "          ,['Kita','13.0349','-9.4895'],['Kati','12.7441', '-8.0726'],['Koulikoro','12.8627','-7.5599'], ['Tessalit','20.1986', '1.0114']]\n"
   ]
  },
  {
   "cell_type": "code",
   "execution_count": 67,
   "metadata": {},
   "outputs": [],
   "source": [
    "def get_weather(api_key, lat, lon):\n",
    "    url = \"https://api.openweathermap.org/data/2.5/onecall?lat={}&lon={}&units=metric&appid={}\".format(lat, lon, api_key)\n",
    "    r = requests.get(url)\n",
    "    return r.json()"
   ]
  },
  {
   "cell_type": "code",
   "execution_count": 231,
   "metadata": {},
   "outputs": [],
   "source": [
    "def correct_time(unix):\n",
    "    stamp = int(unix)\n",
    "    return(datetime.utcfromtimestamp(stamp).strftime('%Y-%m-%d %H:%M:%S'))\n"
   ]
  },
  {
   "cell_type": "code",
   "execution_count": 224,
   "metadata": {},
   "outputs": [],
   "source": [
    "import csv\n",
    "def forecast(name, lat, lon):\n",
    "    weather = get_weather(api_key, lat, lon)\n",
    "    for i in range(len(weather)):\n",
    "        print (\"Weather forecast in\",name,\"for\",correct_time((weather['daily'][i]['dt'])))\n",
    "        print(\"the expected maximum temperature is\",weather['daily'][i]['temp']['max'])\n",
    "        print(\"the expected sun intensity is\",weather['daily'][i]['uvi'])\n",
    "        print(\"the expected windstrength is\",weather['daily'][i]['wind_speed'])        \n",
    "        print()\n",
    "        \n",
    "        \n",
    "\n",
    "def make_forecast():\n",
    "    for city in cities:\n",
    "        name = (city[0])\n",
    "        lat = (city[1])\n",
    "        lon = (city[2])\n",
    "        forecast(name, lat, lon)\n",
    "        \n",
    "#make_forecast()\n"
   ]
  },
  {
   "cell_type": "markdown",
   "metadata": {},
   "source": [
    "### Make database and add all data"
   ]
  },
  {
   "cell_type": "code",
   "execution_count": 229,
   "metadata": {},
   "outputs": [],
   "source": [
    "import csv\n",
    "def forecast(name, lat, lon):\n",
    "    with open('database.csv','a') as db:\n",
    "        writer = csv.writer(db, delimiter=',')\n",
    "        weather = get_weather(api_key, lat, lon)\n",
    "        for i in range(len(weather)):\n",
    "            writer.writerow((\"Weather forecast in\",name,\"for\",correct_time((weather['daily'][i]['dt']))))\n",
    "            writer.writerow((\"the expected maximum temperature is\",weather['daily'][i]['temp']['max']))\n",
    "            writer.writerow((\"the expected sun intensity is\",weather['daily'][i]['uvi']))\n",
    "            writer.writerow((\"the expected windstrength is\",weather['daily'][i]['wind_speed']))\n",
    "            writer.writerow(())\n",
    "\n",
    "def make_forecast():\n",
    "    for city in cities:\n",
    "        name = (city[0])\n",
    "        lat = (city[1])\n",
    "        lon = (city[2])\n",
    "        forecast(name, lat, lon)\n",
    "        \n",
    "#make_forecast()"
   ]
  },
  {
   "cell_type": "code",
   "execution_count": 230,
   "metadata": {},
   "outputs": [
    {
     "data": {
      "text/plain": [
       "'\\nmytext = \"This is my text in the saving folder\"\\nlanguage = \\'en\\'\\ntts = gTTS(text=mytext, lang=language, slow=False) \\ntts.save(\\'sample.wav\\')\\n'"
      ]
     },
     "execution_count": 230,
     "metadata": {},
     "output_type": "execute_result"
    }
   ],
   "source": [
    "#!pip install pydub\n",
    "\n",
    "file = open('database.csv', 'r')\n",
    "for record in file:\n",
    "    language = 'en'\n",
    "    tts = gTTS(text=record, lang=language, slow=False) \n",
    "    tts.save('sample.wav')\n",
    "    break\n",
    "'''\n",
    "mytext = \"This is my text in the saving folder\"\n",
    "language = 'en'\n",
    "tts = gTTS(text=mytext, lang=language, slow=False) \n",
    "tts.save('sample.wav')\n",
    "'''\n",
    "# sample rate 8KHz, 16 bit, mono, Codec: PCM 16 LE (s16l)\n"
   ]
  },
  {
   "cell_type": "code",
   "execution_count": 217,
   "metadata": {},
   "outputs": [],
   "source": [
    "\n"
   ]
  },
  {
   "cell_type": "code",
   "execution_count": null,
   "metadata": {},
   "outputs": [],
   "source": []
  }
 ],
 "metadata": {
  "kernelspec": {
   "display_name": "Python 3",
   "language": "python",
   "name": "python3"
  },
  "language_info": {
   "codemirror_mode": {
    "name": "ipython",
    "version": 3
   },
   "file_extension": ".py",
   "mimetype": "text/x-python",
   "name": "python",
   "nbconvert_exporter": "python",
   "pygments_lexer": "ipython3",
   "version": "3.7.4"
  }
 },
 "nbformat": 4,
 "nbformat_minor": 2
}
